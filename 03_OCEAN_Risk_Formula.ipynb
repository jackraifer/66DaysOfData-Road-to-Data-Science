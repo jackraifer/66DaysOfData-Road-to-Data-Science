{
 "cells": [
  {
   "cell_type": "markdown",
   "metadata": {},
   "source": [
    "### **OCEAN - Attrition Risk Formula**\n",
    "Building a risk formula for attrition based on the OCEAN personality model results.<br>\n",
    "First import the needed libraries:"
   ]
  },
  {
   "cell_type": "code",
   "execution_count": 2,
   "metadata": {},
   "outputs": [],
   "source": [
    "import numpy as np"
   ]
  },
  {
   "cell_type": "markdown",
   "metadata": {},
   "source": [
    "Now we create the 5 variables we want, by creating arrays for each one containing the correlation value discovered in the different reaserch studies. Each study made particular discoveries, with different correlation numbers, but similar enough to discover a clear pattern:"
   ]
  },
  {
   "cell_type": "code",
   "execution_count": 20,
   "metadata": {},
   "outputs": [],
   "source": [
    "Odata = np.array([-0.02, -0.085, -0.024, -0.05, -0.032])\n",
    "Cdata = np.array([-0.23, -0.219, -0.257, -0.153, -0.21])\n",
    "Edata = np.array([-0.09, -0.065, -0.05, -0.072, -0.08])\n",
    "Adata = np.array([-0.16, -0.138, -0.157, -0.14, -0.136])\n",
    "Ndata = np.array([0.28, 0.332, 0.328, 0.276, 0.30])"
   ]
  },
  {
   "cell_type": "markdown",
   "metadata": {},
   "source": [
    "Since we can only use one number for then formula, let us create variables for the mean:"
   ]
  },
  {
   "cell_type": "code",
   "execution_count": 21,
   "metadata": {},
   "outputs": [],
   "source": [
    "Omean = Odata.mean()\n",
    "Cmean = Cdata.mean()\n",
    "Emean = Edata.mean()\n",
    "Amean = Adata.mean()\n",
    "Nmean = Ndata.mean()"
   ]
  },
  {
   "cell_type": "markdown",
   "metadata": {},
   "source": [
    "And for ease of use, let us create an array with the means (we will probably use this later when we build our model:"
   ]
  },
  {
   "cell_type": "code",
   "execution_count": 22,
   "metadata": {},
   "outputs": [
    {
     "data": {
      "text/plain": [
       "array([-0.0422, -0.2138, -0.0714, -0.1462,  0.3032])"
      ]
     },
     "execution_count": 22,
     "metadata": {},
     "output_type": "execute_result"
    }
   ],
   "source": [
    "OCEAN = np.array([Omean, Cmean, Emean, Amean, Nmean])\n",
    "OCEAN"
   ]
  },
  {
   "cell_type": "markdown",
   "metadata": {},
   "source": [
    "Our means, in a way, define how much each of the variables affects the risk of attrition, so, with this data, if we had to build a formula right now, it would look like this:\n",
    "\n",
    "AttRisk = O*-0.0422 + C*-0.2138 + A*-0.1462 + E*-0.0714 + N*0.3032\n",
    "\n",
    "We can start testing it by creating OCEAN variables using the world averages we do have."
   ]
  },
  {
   "cell_type": "code",
   "execution_count": 207,
   "metadata": {},
   "outputs": [],
   "source": [
    "O,C,E,A,N = 0.733941, 0.701998, 0.672329, 0.696807, 0.574399"
   ]
  },
  {
   "cell_type": "code",
   "execution_count": 209,
   "metadata": {},
   "outputs": [],
   "source": [
    "AttRisk = O*Omean + C*Cmean + A*Amean + E*Emean + N*Nmean"
   ]
  },
  {
   "cell_type": "code",
   "execution_count": 210,
   "metadata": {},
   "outputs": [
    {
     "data": {
      "text/plain": [
       "-0.15677917979999997"
      ]
     },
     "execution_count": 210,
     "metadata": {},
     "output_type": "execute_result"
    }
   ],
   "source": [
    "AttRisk "
   ]
  },
  {
   "cell_type": "markdown",
   "metadata": {},
   "source": [
    "Nonetheless, this is not enough, since the results of this formula make no sense. This is because we are not interpreting the result, and to do that, we need to do a few things to it. First off, we need to normalize it, which means using a normalization formula with the minimum and maximum possible results. This would be the new formula with normalization:"
   ]
  },
  {
   "cell_type": "code",
   "execution_count": 140,
   "metadata": {},
   "outputs": [],
   "source": [
    "AttRisknorm = (((O*Omean + C*Cmean + A*Amean + E*Emean + N*Nmean) - -0.4736) / (0.3032 - -0.4736))"
   ]
  },
  {
   "cell_type": "code",
   "execution_count": 141,
   "metadata": {},
   "outputs": [
    {
     "data": {
      "text/plain": [
       "0.407853785015448"
      ]
     },
     "execution_count": 141,
     "metadata": {},
     "output_type": "execute_result"
    }
   ],
   "source": [
    "AttRisknorm"
   ]
  },
  {
   "cell_type": "markdown",
   "metadata": {},
   "source": [
    "The result now makes more sense, but 40% risk of turnover for an average person seems very high. Then the question is, what is the what is the average turnover rate in the world. In 2020 it was 10.9%, meaning that an average person then, shold have a 10.9 percent probability of leaving the company within the first year.<br>\n",
    "That means we have to plug this into our formula, so we come up with something like this:"
   ]
  },
  {
   "cell_type": "code",
   "execution_count": 204,
   "metadata": {},
   "outputs": [],
   "source": [
    "AttRiskFinal = ((((O*Omean + C*Cmean + A*Amean + E*Emean + N*Nmean) - -0.4736) / (0.3032 - -0.4736))) / 3.74"
   ]
  },
  {
   "cell_type": "code",
   "execution_count": 205,
   "metadata": {},
   "outputs": [
    {
     "data": {
      "text/plain": [
       "0.10905181417525348"
      ]
     },
     "execution_count": 205,
     "metadata": {},
     "output_type": "execute_result"
    }
   ],
   "source": [
    "AttRiskFinal"
   ]
  },
  {
   "cell_type": "markdown",
   "metadata": {},
   "source": [
    "Now it makes more sense, an average person's risk of attrition, if we want to be as close to reality as possible, is 10.9%. If all the information we collected, and all the averages are actually close to reality, we should now have a very decent risk formula for our needs. But again, it depends on a lot of buts, and here is where we discover one of then bigger, more important truths about data science: our insights are only as good as our data (or in more common terms, \"garbage in, garbage out\")."
   ]
  }
 ],
 "metadata": {
  "kernelspec": {
   "display_name": "Python 3",
   "language": "python",
   "name": "python3"
  },
  "language_info": {
   "codemirror_mode": {
    "name": "ipython",
    "version": 3
   },
   "file_extension": ".py",
   "mimetype": "text/x-python",
   "name": "python",
   "nbconvert_exporter": "python",
   "pygments_lexer": "ipython3",
   "version": "3.8.5"
  }
 },
 "nbformat": 4,
 "nbformat_minor": 4
}
