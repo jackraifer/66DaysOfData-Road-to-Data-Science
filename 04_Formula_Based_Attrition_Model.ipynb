{
 "cells": [
  {
   "cell_type": "markdown",
   "metadata": {},
   "source": [
    "# **Formula Based Attrition Model**\n",
    "On this notebook, we take our base Attrition formula from the previous notebook and create a formula based model, meaning, a program where we can input OCEAN Personality results and it will give us a percentage for the probability of attrition / turnover.<br>\n",
    "As usual, let us import the libraries we will use:"
   ]
  },
  {
   "cell_type": "code",
   "execution_count": 76,
   "metadata": {},
   "outputs": [],
   "source": [
    "import numpy as np\n",
    "import pandas as pd"
   ]
  },
  {
   "cell_type": "markdown",
   "metadata": {},
   "source": [
    "First include the variables we need for our formula:"
   ]
  },
  {
   "cell_type": "code",
   "execution_count": 2,
   "metadata": {},
   "outputs": [],
   "source": [
    "#Formula Variables\n",
    "m = [-0.0422, -0.2138, -0.0714, -0.1462,  0.3032] # Variable for the means of correlations\n",
    "minres = -0.4736\n",
    "maxres = 0.3032\n",
    "divisor = 3.74"
   ]
  },
  {
   "cell_type": "markdown",
   "metadata": {},
   "source": [
    "Now we can building a function based model using the formula:<br>\n",
    "AttRiskFinal = ((((O*Omean + C*Cmean + A*Amean + E*Emean + N*Nmean) - -0.4736) / (0.3032 - -0.4736))) / 3.74"
   ]
  },
  {
   "cell_type": "code",
   "execution_count": 77,
   "metadata": {},
   "outputs": [],
   "source": [
    "# The input data for our function will be an array. More info below.\n",
    "# The results input should be a list of lists that includes an id number followed by each of the OCEAN results in that order.\n",
    "def PredAttRisk(results):\n",
    "    prediction = []\n",
    "    for l in results:\n",
    "        risk = (((m[0]*l[1] + m[1]*l[2] + m[2]*l[3] + m[3]*l[4] + m[4]*l[5]) - minres) / (maxres - minres)) / divisor\n",
    "        risk = round(risk, 2)\n",
    "        print('Risk for ID# {} is {}%.'.format(str(l[0]), risk*100)) #The x100 is to transform the prediction into a percentage"
   ]
  },
  {
   "cell_type": "code",
   "execution_count": 33,
   "metadata": {},
   "outputs": [],
   "source": [
    "# List for singular test.\n",
    "test1 = [[1, 0.803, 0.886, 0.496, 0.753, 0.426]]"
   ]
  },
  {
   "cell_type": "code",
   "execution_count": 34,
   "metadata": {},
   "outputs": [
    {
     "name": "stdout",
     "output_type": "stream",
     "text": [
      "Risk for ID# 1 is 8.0%.\n"
     ]
    }
   ],
   "source": [
    "# Testing with 1 list\n",
    "PredAttRisk(test1)"
   ]
  },
  {
   "cell_type": "code",
   "execution_count": 35,
   "metadata": {},
   "outputs": [],
   "source": [
    "# Now let us try it with a few more lists at the same time\n",
    "test2 = [[1, 0.803, 0.886, 0.496, 0.753, 0.426],\n",
    "         [2, 0.503, 0.766, 0.855, 0.621, 0.519],\n",
    "         [3, 0.731, 0.432, 0.631, 0.859, 0.622],\n",
    "         [4, 0.600, 0.616, 0.716, 0.636, 0.563],\n",
    "         [5, 0.462, 0.368, 0.425, 0.526, 0.942],\n",
    "        ]"
   ]
  },
  {
   "cell_type": "code",
   "execution_count": 36,
   "metadata": {},
   "outputs": [
    {
     "name": "stdout",
     "output_type": "stream",
     "text": [
      "Risk for ID# 1 is 8.0%.\n",
      "Risk for ID# 2 is 10.0%.\n",
      "Risk for ID# 3 is 13.0%.\n",
      "Risk for ID# 4 is 12.0%.\n",
      "Risk for ID# 5 is 19.0%.\n"
     ]
    }
   ],
   "source": [
    "PredAttRisk(test2)"
   ]
  },
  {
   "cell_type": "code",
   "execution_count": 39,
   "metadata": {},
   "outputs": [
    {
     "data": {
      "text/html": [
       "<div>\n",
       "<style scoped>\n",
       "    .dataframe tbody tr th:only-of-type {\n",
       "        vertical-align: middle;\n",
       "    }\n",
       "\n",
       "    .dataframe tbody tr th {\n",
       "        vertical-align: top;\n",
       "    }\n",
       "\n",
       "    .dataframe thead th {\n",
       "        text-align: right;\n",
       "    }\n",
       "</style>\n",
       "<table border=\"1\" class=\"dataframe\">\n",
       "  <thead>\n",
       "    <tr style=\"text-align: right;\">\n",
       "      <th></th>\n",
       "      <th>case_id</th>\n",
       "      <th>country</th>\n",
       "      <th>age</th>\n",
       "      <th>sex</th>\n",
       "      <th>agreeable_score</th>\n",
       "      <th>extraversion_score</th>\n",
       "      <th>openness_score</th>\n",
       "      <th>conscientiousness_score</th>\n",
       "      <th>neuroticism_score</th>\n",
       "    </tr>\n",
       "  </thead>\n",
       "  <tbody>\n",
       "    <tr>\n",
       "      <th>0</th>\n",
       "      <td>1</td>\n",
       "      <td>South Afri</td>\n",
       "      <td>24</td>\n",
       "      <td>1</td>\n",
       "      <td>0.753333</td>\n",
       "      <td>0.496667</td>\n",
       "      <td>0.803333</td>\n",
       "      <td>0.886667</td>\n",
       "      <td>0.426667</td>\n",
       "    </tr>\n",
       "    <tr>\n",
       "      <th>1</th>\n",
       "      <td>3</td>\n",
       "      <td>UK</td>\n",
       "      <td>24</td>\n",
       "      <td>2</td>\n",
       "      <td>0.733333</td>\n",
       "      <td>0.680000</td>\n",
       "      <td>0.786667</td>\n",
       "      <td>0.746667</td>\n",
       "      <td>0.590000</td>\n",
       "    </tr>\n",
       "    <tr>\n",
       "      <th>2</th>\n",
       "      <td>4</td>\n",
       "      <td>USA</td>\n",
       "      <td>36</td>\n",
       "      <td>2</td>\n",
       "      <td>0.880000</td>\n",
       "      <td>0.770000</td>\n",
       "      <td>0.860000</td>\n",
       "      <td>0.896667</td>\n",
       "      <td>0.296667</td>\n",
       "    </tr>\n",
       "    <tr>\n",
       "      <th>3</th>\n",
       "      <td>5</td>\n",
       "      <td>UK</td>\n",
       "      <td>19</td>\n",
       "      <td>1</td>\n",
       "      <td>0.690000</td>\n",
       "      <td>0.616667</td>\n",
       "      <td>0.716667</td>\n",
       "      <td>0.636667</td>\n",
       "      <td>0.563333</td>\n",
       "    </tr>\n",
       "    <tr>\n",
       "      <th>4</th>\n",
       "      <td>6</td>\n",
       "      <td>UK</td>\n",
       "      <td>17</td>\n",
       "      <td>1</td>\n",
       "      <td>0.600000</td>\n",
       "      <td>0.713333</td>\n",
       "      <td>0.646667</td>\n",
       "      <td>0.633333</td>\n",
       "      <td>0.513333</td>\n",
       "    </tr>\n",
       "  </tbody>\n",
       "</table>\n",
       "</div>"
      ],
      "text/plain": [
       "   case_id     country  age  sex  agreeable_score  extraversion_score  \\\n",
       "0        1  South Afri   24    1         0.753333            0.496667   \n",
       "1        3          UK   24    2         0.733333            0.680000   \n",
       "2        4         USA   36    2         0.880000            0.770000   \n",
       "3        5          UK   19    1         0.690000            0.616667   \n",
       "4        6          UK   17    1         0.600000            0.713333   \n",
       "\n",
       "   openness_score  conscientiousness_score  neuroticism_score  \n",
       "0        0.803333                 0.886667           0.426667  \n",
       "1        0.786667                 0.746667           0.590000  \n",
       "2        0.860000                 0.896667           0.296667  \n",
       "3        0.716667                 0.636667           0.563333  \n",
       "4        0.646667                 0.633333           0.513333  "
      ]
     },
     "execution_count": 39,
     "metadata": {},
     "output_type": "execute_result"
    }
   ],
   "source": [
    "#Testing with a dataframe\n",
    "df1 = pd.read_csv('DATA_OCEAN/big_five_scores.csv')\n",
    "df1.head()"
   ]
  },
  {
   "cell_type": "code",
   "execution_count": 79,
   "metadata": {},
   "outputs": [],
   "source": [
    "test3 = []\n",
    "for ind in df1.head(15).index: \n",
    "     test3.append([df1['case_id'][ind], \n",
    "                   df1['openness_score'][ind], \n",
    "                   df1['conscientiousness_score'][ind], \n",
    "                   df1['extraversion_score'][ind], \n",
    "                   df1['agreeable_score'][ind], \n",
    "                   df1['neuroticism_score'][ind]]) "
   ]
  },
  {
   "cell_type": "code",
   "execution_count": 80,
   "metadata": {},
   "outputs": [
    {
     "name": "stdout",
     "output_type": "stream",
     "text": [
      "Risk for ID# 1 is 8.0%.\n",
      "Risk for ID# 3 is 10.0%.\n",
      "Risk for ID# 4 is 5.0%.\n",
      "Risk for ID# 5 is 11.0%.\n",
      "Risk for ID# 6 is 11.0%.\n",
      "Risk for ID# 7 is 13.0%.\n",
      "Risk for ID# 8 is 9.0%.\n",
      "Risk for ID# 9 is 10.0%.\n",
      "Risk for ID# 10 is 13.0%.\n",
      "Risk for ID# 11 is 12.0%.\n",
      "Risk for ID# 12 is 11.0%.\n",
      "Risk for ID# 13 is 4.0%.\n",
      "Risk for ID# 14 is 12.0%.\n",
      "Risk for ID# 15 is 11.0%.\n",
      "Risk for ID# 16 is 16.0%.\n"
     ]
    }
   ],
   "source": [
    "PredAttRisk(test3)"
   ]
  },
  {
   "cell_type": "code",
   "execution_count": null,
   "metadata": {},
   "outputs": [],
   "source": []
  }
 ],
 "metadata": {
  "kernelspec": {
   "display_name": "Python 3",
   "language": "python",
   "name": "python3"
  },
  "language_info": {
   "codemirror_mode": {
    "name": "ipython",
    "version": 3
   },
   "file_extension": ".py",
   "mimetype": "text/x-python",
   "name": "python",
   "nbconvert_exporter": "python",
   "pygments_lexer": "ipython3",
   "version": "3.8.5"
  }
 },
 "nbformat": 4,
 "nbformat_minor": 4
}
